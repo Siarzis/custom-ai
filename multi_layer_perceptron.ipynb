{
  "nbformat": 4,
  "nbformat_minor": 0,
  "metadata": {
    "colab": {
      "provenance": [],
      "toc_visible": true,
      "gpuType": "T4",
      "authorship_tag": "ABX9TyPMipEe4CtVoPXFQ6BYHdAb",
      "include_colab_link": true
    },
    "kernelspec": {
      "name": "python3",
      "display_name": "Python 3"
    },
    "language_info": {
      "name": "python"
    },
    "accelerator": "GPU"
  },
  "cells": [
    {
      "cell_type": "markdown",
      "metadata": {
        "id": "view-in-github",
        "colab_type": "text"
      },
      "source": [
        "<a href=\"https://colab.research.google.com/github/Siarzis/custom-ai/blob/main/multi_layer_perceptron.ipynb\" target=\"_parent\"><img src=\"https://colab.research.google.com/assets/colab-badge.svg\" alt=\"Open In Colab\"/></a>"
      ]
    },
    {
      "cell_type": "markdown",
      "source": [
        "# Import libraries"
      ],
      "metadata": {
        "id": "hIpYx3qUjndY"
      }
    },
    {
      "cell_type": "code",
      "source": [
        "import numpy as np\n",
        "\n",
        "import random\n",
        "import copy\n",
        "\n",
        "import matplotlib.pyplot as plt\n",
        "\n",
        "from sklearn.metrics import accuracy_score"
      ],
      "metadata": {
        "id": "lCJxONqrjoFh"
      },
      "execution_count": 1,
      "outputs": []
    },
    {
      "cell_type": "markdown",
      "source": [
        "# Generate dataset"
      ],
      "metadata": {
        "id": "oWn6L2Z4jhY4"
      }
    },
    {
      "cell_type": "code",
      "execution_count": 2,
      "metadata": {
        "id": "xbvUNUIDlO-m"
      },
      "outputs": [],
      "source": [
        "# s value specifies the size of the dataset\n",
        "s = 100\n",
        "\n",
        "training_dataset = []\n",
        "for i in range(s):\n",
        "    training_dataset.append(np.array([[0.05, 0.01], [0.1, 0.99]]))"
      ]
    },
    {
      "cell_type": "markdown",
      "source": [
        "# Initialize model & Forward pass\n",
        "\n"
      ],
      "metadata": {
        "id": "sjWiwfjtj3hg"
      }
    },
    {
      "cell_type": "code",
      "source": [
        "# configure the learning rate\n",
        "lr = 2.0\n",
        "\n",
        "# number of epochs\n",
        "epochs = 1000\n",
        "\n",
        "# provide number of neurons in each hidden layer\n",
        "layer_neurons = [inputs, 2, 2]\n",
        "\n",
        "weights, hidden, bias, node_delta = [], [], [], []\n",
        "\n",
        "# the number of rows in w represents the number of neuron in each layer\n",
        "# the number of columns in w represents the number of inputs of the previous layer\n",
        "for i in range(1, len(layer_neurons)):\n",
        "\n",
        "    # initialize the neuron weights\n",
        "    weights.append(np.zeros((layer_neurons[i], layer_neurons[i-1])))\n",
        "\n",
        "    hidden.append(np.zeros((layer_neurons[i], 1)))\n",
        "\n",
        "    node_delta.append(np.zeros((layer_neurons[i], 1)))\n",
        "\n",
        "hidden.insert(0, np.zeros((layer_neurons[0], 1)))\n",
        "\n",
        "# Set up weights and biases\n",
        "weights = []\n",
        "weights.append(np.array([[0.15, 0.2], [0.25, 0.3]]))\n",
        "weights.append(np.array([[0.4, 0.45], [0.5, 0.55]]))\n",
        "\n",
        "bias = [0.35, 0.6]\n",
        "\n",
        "total_error = []\n",
        "\n",
        "# initialize perceptron\n",
        "\n",
        "for e in range(epochs):\n",
        "    for s in training_dataset:\n",
        "        X = s[:,0].reshape(-1, 1)\n",
        "        d = s[:,1].reshape(-1, 1)\n",
        "\n",
        "        hidden[0] = X\n",
        "\n",
        "        # forward pass implementation\n",
        "        for i in range(1, len(hidden)):\n",
        "            hidden[i] = 1/(1 + 1/np.exp(np.dot(weights[i-1], hidden[i-1])+bias[i-1]))\n",
        "\n",
        "        # print(\"Epoch: {}\".format(e))\n",
        "        # print(hidden[-1])\n",
        "\n",
        "        weights_old = copy.deepcopy(weights)\n",
        "\n",
        "        # compute the error --- square error function is convenient for the gradient computation\n",
        "        error = 0.5*((d-hidden[-1]) ** 2)\n",
        "\n",
        "        total_error.append(error[0][0] + error[1][0])\n",
        "\n",
        "        # backward pass implementation\n",
        "\n",
        "        # iterate layer\n",
        "        for i in range(1, len(layer_neurons)):\n",
        "            if i == 1:\n",
        "                # compute error sensitivity to output\n",
        "                delta_error_output = -(d-hidden[-i])\n",
        "\n",
        "                delta_output_net = hidden[-i]*(1-hidden[-i])\n",
        "\n",
        "                node_delta[-i] = delta_error_output * delta_output_net\n",
        "\n",
        "                delta_net_weight = np.transpose(hidden[-i-1])\n",
        "\n",
        "                # compute error sensitivity to weight\n",
        "                de_dw = delta_error_output * delta_output_net * delta_net_weight\n",
        "            else:\n",
        "                delta_error_output = np.dot(weights_old[-i+1], node_delta[-i+1])\n",
        "\n",
        "                delta_output_net = hidden[-i]*(1-hidden[-i])\n",
        "\n",
        "                node_delta[-i] = delta_error_output * delta_output_net\n",
        "\n",
        "                delta_net_weight = np.transpose(hidden[-i-1])\n",
        "\n",
        "                de_dw = delta_error_output * delta_output_net * delta_net_weight\n",
        "\n",
        "            weights[-i] = weights[-i] - lr*de_dw\n",
        "\n",
        "# Plotting the list\n",
        "plt.plot(total_error)\n",
        "\n",
        "# Adding labels and title\n",
        "plt.xlabel('Number of Epochs')\n",
        "plt.ylabel('Total Loss')\n",
        "plt.title('Training Loss')\n",
        "\n",
        "# Display the plot\n",
        "plt.show()"
      ],
      "metadata": {
        "id": "MeTqyBx9jtpI",
        "colab": {
          "base_uri": "https://localhost:8080/",
          "height": 472
        },
        "outputId": "3f0823cf-d295-4128-b0b7-55af19275ef9"
      },
      "execution_count": 9,
      "outputs": [
        {
          "output_type": "display_data",
          "data": {
            "text/plain": [
              "<Figure size 640x480 with 1 Axes>"
            ],
            "image/png": "[encoded data removed]"
          },
          "metadata": {}
        }
      ]
    },
    {
      "cell_type": "markdown",
      "source": [
        "#Test forward pass"
      ],
      "metadata": {
        "id": "69njaS7kuvHS"
      }
    },
    {
      "cell_type": "code",
      "source": [
        "# Simple input data\n",
        "input_data = np.array([[0.1, 0.5]])\n",
        "\n",
        "# Set up weights and biases\n",
        "weights = []\n",
        "weights.append(np.array([[-0.3, 0.1], [0.4, 0.2]]))\n",
        "weights.append(np.array([[0.1, -0.1]]))\n",
        "\n",
        "hidden = np.zeros(2)\n",
        "\n",
        "X = np.array([[0.05], [0.1]])\n",
        "\n",
        "# Set up weights and biases\n",
        "w = []\n",
        "w.append(np.array([[-0.3, 0.1], [0.4, 0.2]]))\n",
        "w.append(np.array([[0.1, -0.1]]))\n",
        "\n",
        "# forward pass implementation\n",
        "for i in range(len(weights)):\n",
        "    if i == 0:\n",
        "        for j in range(weights[i].shape[0]):\n",
        "            hidden[j] = np.sum(weights[i][j] * input_data)\n",
        "    else:\n",
        "        print(hidden)\n",
        "        for j in range(weights[i].shape[0]):\n",
        "            y = np.sum(weights[i][j] * hidden)\n",
        "\n",
        "print(y)"
      ],
      "metadata": {
        "id": "balN0hiWu6Le"
      },
      "execution_count": null,
      "outputs": []
    }
  ]
}