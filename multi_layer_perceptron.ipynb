{
  "nbformat": 4,
  "nbformat_minor": 0,
  "metadata": {
    "colab": {
      "provenance": [],
      "toc_visible": true,
      "gpuType": "T4",
      "authorship_tag": "ABX9TyMKMroBNysKniCNOoAIx6Aa"
    },
    "kernelspec": {
      "name": "python3",
      "display_name": "Python 3"
    },
    "language_info": {
      "name": "python"
    }
  },
  "cells": [
    {
      "cell_type": "markdown",
      "source": [
        "# Import libraries"
      ],
      "metadata": {
        "id": "hIpYx3qUjndY"
      }
    },
    {
      "cell_type": "code",
      "source": [
        "import numpy as np\n",
        "\n",
        "import random\n",
        "\n",
        "import matplotlib.pyplot as plt\n",
        "\n",
        "from sklearn.metrics import accuracy_score"
      ],
      "metadata": {
        "id": "lCJxONqrjoFh"
      },
      "execution_count": 14,
      "outputs": []
    },
    {
      "cell_type": "markdown",
      "source": [
        "# Generate dataset"
      ],
      "metadata": {
        "id": "oWn6L2Z4jhY4"
      }
    },
    {
      "cell_type": "code",
      "execution_count": 15,
      "metadata": {
        "id": "xbvUNUIDlO-m"
      },
      "outputs": [],
      "source": [
        "# for a single perceptron, the algorithm requires the number of inputs\n",
        "# to the perceptron as a parameter to be provided\n",
        "\n",
        "# no_inputs specifices perceptron's number of inputs and is user-defined hyperparameter\n",
        "inputs = 2\n",
        "\n",
        "# s value specifies the size of the dataset\n",
        "s = 1000\n",
        "\n",
        "training_dataset = np.random.uniform(0, 1, size=(s, inputs+1))\n",
        "\n",
        "for row in training_dataset:\n",
        "    if row[1] > row[0]:\n",
        "        row[2] = 1\n",
        "    else:\n",
        "        row[2] = 0"
      ]
    },
    {
      "cell_type": "markdown",
      "source": [
        "# Plot the dataset"
      ],
      "metadata": {
        "id": "fvF-xeyPnv1n"
      }
    },
    {
      "cell_type": "code",
      "source": [
        "# Extract horizontal and vertical coordinates from the input values\n",
        "\n",
        "h_green = []\n",
        "v_green = []\n",
        "h_blue = []\n",
        "v_blue = []\n",
        "\n",
        "for i, row in enumerate(training_dataset):\n",
        "    if row[2] == 1:\n",
        "        h_green.append(training_dataset[i, 0])\n",
        "        v_green.append(training_dataset[i, 1])\n",
        "    else:\n",
        "        h_blue.append(training_dataset[i, 0])\n",
        "        v_blue.append(training_dataset[i, 1])\n",
        "\n",
        "# Plot the points\n",
        "plt.scatter(h_green, v_green, marker='o', s=1, color='green', label='Random Points')\n",
        "plt.scatter(h_blue, v_blue, marker='o', s=1, color='blue', label='Random Points')\n",
        "plt.plot([0.0, 1], [0.0, 1], color='black')\n",
        "\n",
        "# Add labels and title\n",
        "plt.xlabel('X-axis')\n",
        "plt.ylabel('Y-axis')\n",
        "plt.title('Randomly Generated Input Values')\n",
        "\n",
        "# Display the legend\n",
        "plt.legend()\n",
        "\n",
        "# Show the plot\n",
        "plt.show()"
      ],
      "metadata": {
        "id": "RYdVclwYnwR4"
      },
      "execution_count": null,
      "outputs": []
    },
    {
      "cell_type": "markdown",
      "source": [
        "# Initialize model & Forward pass\n",
        "\n"
      ],
      "metadata": {
        "id": "sjWiwfjtj3hg"
      }
    },
    {
      "cell_type": "code",
      "source": [
        "# configure the learning rate\n",
        "lr = 0.01\n",
        "\n",
        "# number of epochs\n",
        "epochs = 1\n",
        "\n",
        "# provide number of neurons in each hidden layer\n",
        "layer_neurons = [inputs, 2, 1]\n",
        "\n",
        "w, h, b = [], [], []\n",
        "\n",
        "# the number of rows in w represents the number of neuron in each layer\n",
        "# the number of columns in w represents the number of inputs of the previous layer\n",
        "for i in range(1, len(layer_neurons)):\n",
        "\n",
        "    # initialize the neuron weights\n",
        "    w.append(np.zeros((layer_neurons[i], layer_neurons[i-1])))\n",
        "\n",
        "    h.append(np.zeros((layer_neurons[i], 1)))\n",
        "\n",
        "    # b.append(0)\n",
        "\n",
        "# initialize perceptron\n",
        "\n",
        "for e in range(epochs):\n",
        "    for sample in training_dataset[:1,:]:\n",
        "        X = sample[:2]\n",
        "        d = sample[2]\n",
        "\n",
        "        X = np.array([[0.05], [0.1]])\n",
        "        d = 0.01\n",
        "\n",
        "        # Set up weights and biases\n",
        "        w = []\n",
        "        w.append(np.array([[0.15, 0.2], [0.25, 0.3]]))\n",
        "        w.append(np.array([[0.4, 0.45]]))\n",
        "\n",
        "        # forward pass implementation\n",
        "        for i in range(len(w)):\n",
        "            if i == 0:\n",
        "                h = 1/(1 + 1/np.exp(np.dot(w[i], X)+0.35))\n",
        "            else:\n",
        "                h = 1/(1 + 1/np.exp(np.dot(w[i], h)+0.6))\n",
        "\n",
        "        y = h\n",
        "\n",
        "        # compute the error --- square error function is convenient for the gradient computation\n",
        "        error = 0.5*((d-y) ** 2)\n",
        "\n",
        "        # backward pass implementation\n",
        "\n",
        "        # compute error sensitivity to output\n",
        "        de_dy = -(d-y[0][0])\n",
        "        print(de_dy)\n",
        "\n",
        "        dy_dh = y[0][0]*(1-y[0][0])\n",
        "        print(dy_dh)\n",
        "\n",
        "        dy_dh = h[0]\n",
        "        print(dy_dh)\n"
      ],
      "metadata": {
        "id": "MeTqyBx9jtpI",
        "colab": {
          "base_uri": "https://localhost:8080/",
          "height": 331
        },
        "outputId": "2ac68495-23de-4331-b8eb-4818231b2bc6"
      },
      "execution_count": 34,
      "outputs": [
        {
          "output_type": "error",
          "ename": "TypeError",
          "evalue": "ignored",
          "traceback": [
            "\u001b[0;31m---------------------------------------------------------------------------\u001b[0m",
            "\u001b[0;31mAttributeError\u001b[0m                            Traceback (most recent call last)",
            "\u001b[0;31mAttributeError\u001b[0m: 'numpy.ndarray' object has no attribute 'exp'",
            "\nThe above exception was the direct cause of the following exception:\n",
            "\u001b[0;31mTypeError\u001b[0m                                 Traceback (most recent call last)",
            "\u001b[0;32m<ipython-input-34-84bf9cf88e23>\u001b[0m in \u001b[0;36m<cell line: 25>\u001b[0;34m()\u001b[0m\n\u001b[1;32m     41\u001b[0m                 \u001b[0mh\u001b[0m\u001b[0;34m[\u001b[0m\u001b[0mi\u001b[0m\u001b[0;34m]\u001b[0m \u001b[0;34m=\u001b[0m \u001b[0;36m1\u001b[0m\u001b[0;34m/\u001b[0m\u001b[0;34m(\u001b[0m\u001b[0;36m1\u001b[0m \u001b[0;34m+\u001b[0m \u001b[0;36m1\u001b[0m\u001b[0;34m/\u001b[0m\u001b[0mnp\u001b[0m\u001b[0;34m.\u001b[0m\u001b[0mexp\u001b[0m\u001b[0;34m(\u001b[0m\u001b[0mnp\u001b[0m\u001b[0;34m.\u001b[0m\u001b[0mdot\u001b[0m\u001b[0;34m(\u001b[0m\u001b[0mw\u001b[0m\u001b[0;34m[\u001b[0m\u001b[0mi\u001b[0m\u001b[0;34m]\u001b[0m\u001b[0;34m,\u001b[0m \u001b[0mX\u001b[0m\u001b[0;34m)\u001b[0m\u001b[0;34m+\u001b[0m\u001b[0;36m0.35\u001b[0m\u001b[0;34m)\u001b[0m\u001b[0;34m)\u001b[0m\u001b[0;34m\u001b[0m\u001b[0;34m\u001b[0m\u001b[0m\n\u001b[1;32m     42\u001b[0m             \u001b[0;32melse\u001b[0m\u001b[0;34m:\u001b[0m\u001b[0;34m\u001b[0m\u001b[0;34m\u001b[0m\u001b[0m\n\u001b[0;32m---> 43\u001b[0;31m                 \u001b[0mh\u001b[0m\u001b[0;34m[\u001b[0m\u001b[0mi\u001b[0m\u001b[0;34m]\u001b[0m \u001b[0;34m=\u001b[0m \u001b[0;36m1\u001b[0m\u001b[0;34m/\u001b[0m\u001b[0;34m(\u001b[0m\u001b[0;36m1\u001b[0m \u001b[0;34m+\u001b[0m \u001b[0;36m1\u001b[0m\u001b[0;34m/\u001b[0m\u001b[0mnp\u001b[0m\u001b[0;34m.\u001b[0m\u001b[0mexp\u001b[0m\u001b[0;34m(\u001b[0m\u001b[0mnp\u001b[0m\u001b[0;34m.\u001b[0m\u001b[0mdot\u001b[0m\u001b[0;34m(\u001b[0m\u001b[0mw\u001b[0m\u001b[0;34m[\u001b[0m\u001b[0mi\u001b[0m\u001b[0;34m]\u001b[0m\u001b[0;34m,\u001b[0m \u001b[0mh\u001b[0m\u001b[0;34m)\u001b[0m\u001b[0;34m+\u001b[0m\u001b[0;36m0.6\u001b[0m\u001b[0;34m)\u001b[0m\u001b[0;34m)\u001b[0m\u001b[0;34m\u001b[0m\u001b[0;34m\u001b[0m\u001b[0m\n\u001b[0m\u001b[1;32m     44\u001b[0m \u001b[0;34m\u001b[0m\u001b[0m\n\u001b[1;32m     45\u001b[0m         \u001b[0;31m# compute the error --- square error function is convenient for the gradient computation\u001b[0m\u001b[0;34m\u001b[0m\u001b[0;34m\u001b[0m\u001b[0m\n",
            "\u001b[0;31mTypeError\u001b[0m: loop of ufunc does not support argument 0 of type numpy.ndarray which has no callable exp method"
          ]
        }
      ]
    },
    {
      "cell_type": "markdown",
      "source": [
        "#Test forward pass"
      ],
      "metadata": {
        "id": "69njaS7kuvHS"
      }
    },
    {
      "cell_type": "code",
      "source": [
        "# Simple input data\n",
        "input_data = np.array([[0.1, 0.5]])\n",
        "\n",
        "# Set up weights and biases\n",
        "weights = []\n",
        "weights.append(np.array([[-0.3, 0.1], [0.4, 0.2]]))\n",
        "weights.append(np.array([[0.1, -0.1]]))\n",
        "\n",
        "hidden = np.zeros(2)\n",
        "\n",
        "X = np.array([[0.05], [0.1]])\n",
        "\n",
        "# Set up weights and biases\n",
        "w = []\n",
        "w.append(np.array([[-0.3, 0.1], [0.4, 0.2]]))\n",
        "w.append(np.array([[0.1, -0.1]]))\n",
        "\n",
        "# forward pass implementation\n",
        "for i in range(len(weights)):\n",
        "    if i == 0:\n",
        "        for j in range(weights[i].shape[0]):\n",
        "            hidden[j] = np.sum(weights[i][j] * input_data)\n",
        "    else:\n",
        "        print(hidden)\n",
        "        for j in range(weights[i].shape[0]):\n",
        "            y = np.sum(weights[i][j] * hidden)\n",
        "\n",
        "print(y)"
      ],
      "metadata": {
        "id": "balN0hiWu6Le"
      },
      "execution_count": null,
      "outputs": []
    }
  ]
}