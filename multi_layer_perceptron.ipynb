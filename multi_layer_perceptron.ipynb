{
  "nbformat": 4,
  "nbformat_minor": 0,
  "metadata": {
    "colab": {
      "provenance": [],
      "toc_visible": true,
      "gpuType": "T4",
      "authorship_tag": "ABX9TyPH6wTklr+XsNNYokFblO56",
      "include_colab_link": true
    },
    "kernelspec": {
      "name": "python3",
      "display_name": "Python 3"
    },
    "language_info": {
      "name": "python"
    }
  },
  "cells": [
    {
      "cell_type": "markdown",
      "metadata": {
        "id": "view-in-github",
        "colab_type": "text"
      },
      "source": [
        "<a href=\"https://colab.research.google.com/github/Siarzis/custom-ai/blob/main/multi_layer_perceptron.ipynb\" target=\"_parent\"><img src=\"https://colab.research.google.com/assets/colab-badge.svg\" alt=\"Open In Colab\"/></a>"
      ]
    },
    {
      "cell_type": "markdown",
      "source": [
        "# Import libraries"
      ],
      "metadata": {
        "id": "hIpYx3qUjndY"
      }
    },
    {
      "cell_type": "code",
      "source": [
        "import numpy as np\n",
        "\n",
        "import random\n",
        "\n",
        "import matplotlib.pyplot as plt\n",
        "\n",
        "from sklearn.metrics import accuracy_score"
      ],
      "metadata": {
        "id": "lCJxONqrjoFh"
      },
      "execution_count": 2,
      "outputs": []
    },
    {
      "cell_type": "markdown",
      "source": [
        "# Generate dataset"
      ],
      "metadata": {
        "id": "oWn6L2Z4jhY4"
      }
    },
    {
      "cell_type": "code",
      "execution_count": 3,
      "metadata": {
        "id": "xbvUNUIDlO-m"
      },
      "outputs": [],
      "source": [
        "# for a single perceptron, the algorithm requires the number of inputs\n",
        "# to the perceptron as a parameter to be provided\n",
        "\n",
        "# no_inputs specifices perceptron's number of inputs and is user-defined hyperparameter\n",
        "inputs = 2\n",
        "\n",
        "# s value specifies the size of the dataset\n",
        "s = 1000\n",
        "\n",
        "training_dataset = np.random.uniform(0, 1, size=(s, inputs+1))\n",
        "\n",
        "for row in training_dataset:\n",
        "    if row[1] > row[0]:\n",
        "        row[2] = 1\n",
        "    else:\n",
        "        row[2] = 0"
      ]
    },
    {
      "cell_type": "markdown",
      "source": [
        "# Plot the dataset"
      ],
      "metadata": {
        "id": "fvF-xeyPnv1n"
      }
    },
    {
      "cell_type": "code",
      "source": [
        "# Extract horizontal and vertical coordinates from the input values\n",
        "\n",
        "h_green = []\n",
        "v_green = []\n",
        "h_blue = []\n",
        "v_blue = []\n",
        "\n",
        "for i, row in enumerate(training_dataset):\n",
        "    if row[2] == 1:\n",
        "        h_green.append(training_dataset[i, 0])\n",
        "        v_green.append(training_dataset[i, 1])\n",
        "    else:\n",
        "        h_blue.append(training_dataset[i, 0])\n",
        "        v_blue.append(training_dataset[i, 1])\n",
        "\n",
        "# Plot the points\n",
        "plt.scatter(h_green, v_green, marker='o', s=1, color='green', label='Random Points')\n",
        "plt.scatter(h_blue, v_blue, marker='o', s=1, color='blue', label='Random Points')\n",
        "plt.plot([0.0, 1], [0.0, 1], color='black')\n",
        "\n",
        "# Add labels and title\n",
        "plt.xlabel('X-axis')\n",
        "plt.ylabel('Y-axis')\n",
        "plt.title('Randomly Generated Input Values')\n",
        "\n",
        "# Display the legend\n",
        "plt.legend()\n",
        "\n",
        "# Show the plot\n",
        "plt.show()"
      ],
      "metadata": {
        "id": "RYdVclwYnwR4"
      },
      "execution_count": null,
      "outputs": []
    },
    {
      "cell_type": "markdown",
      "source": [
        "# Initialize model & Forward pass\n",
        "\n"
      ],
      "metadata": {
        "id": "sjWiwfjtj3hg"
      }
    },
    {
      "cell_type": "code",
      "source": [
        "# configure the learning rate\n",
        "lr = 0.5\n",
        "\n",
        "# number of epochs\n",
        "epochs = 1\n",
        "\n",
        "# provide number of neurons in each hidden layer\n",
        "layer_neurons = [inputs, 2, 1]\n",
        "\n",
        "weights, hidden, b, error = [], [], [], []\n",
        "\n",
        "# the number of rows in w represents the number of neuron in each layer\n",
        "# the number of columns in w represents the number of inputs of the previous layer\n",
        "for i in range(1, len(layer_neurons)):\n",
        "\n",
        "    # initialize the neuron weights\n",
        "    weights.append(np.zeros((layer_neurons[i], layer_neurons[i-1])))\n",
        "\n",
        "    hidden.append(np.zeros((layer_neurons[i], 1)))\n",
        "\n",
        "    error.append(np.zeros((layer_neurons[i], 1)))\n",
        "\n",
        "    # b.append(0)\n",
        "\n",
        "# initialize perceptron\n",
        "\n",
        "for e in range(epochs):\n",
        "    for sample in training_dataset[:1,:]:\n",
        "        X = sample[:2]\n",
        "        d = sample[2]\n",
        "\n",
        "        X = np.array([[0.05], [0.1]])\n",
        "        d = 0.01\n",
        "\n",
        "        # Set up weights and biases\n",
        "        weights = []\n",
        "        weights.append(np.array([[0.15, 0.2], [0.25, 0.3]]))\n",
        "        weights.append(np.array([[0.4, 0.45]]))\n",
        "\n",
        "        # forward pass implementation\n",
        "        for i in range(len(weights)):\n",
        "            if i == 0:\n",
        "                hidden[i] = 1/(1 + 1/np.exp(np.dot(weights[i], X)+0.35))\n",
        "            else:\n",
        "                hidden[i] = 1/(1 + 1/np.exp(np.dot(weights[i], hidden[i-1])+0.6))\n",
        "\n",
        "        error[-1][0] = d\n",
        "\n",
        "        # backward pass implementation\n",
        "        for i in range(1, len(hidden)+1):\n",
        "            print(hidden[-i])\n",
        "            for j in range(hidden[-i].shape[0]):\n",
        "                print(j)\n",
        "                # compute the error --- square error function is convenient for the gradient computation\n",
        "                # err = 0.5*((error[-i][j]-hidden[-i][j]) ** 2)\n",
        "\n",
        "                # compute error sensitivity to output\n",
        "                de_do = -(error[-i][j]-hidden[-i][j])\n",
        "\n",
        "                do_dh = hidden[-i][j]*(1-hidden[-i][j])\n",
        "\n",
        "                dh_dw = hidden[-i-1][j]\n",
        "\n",
        "                # compute error sensitivity to weight\n",
        "                de_dw = de_do * do_dh * dh_dw\n",
        "\n",
        "                weights[-i][j] = weights[-i][j] - lr*de_dw"
      ],
      "metadata": {
        "id": "MeTqyBx9jtpI",
        "colab": {
          "base_uri": "https://localhost:8080/",
          "height": 331
        },
        "outputId": "cf54fa65-e9a4-4dea-d0fd-1c44eeed490a"
      },
      "execution_count": 30,
      "outputs": [
        {
          "output_type": "stream",
          "name": "stdout",
          "text": [
            "[[0.75136507]]\n",
            "0\n",
            "[[0.59326999]\n",
            " [0.59688438]]\n",
            "0\n"
          ]
        },
        {
          "output_type": "error",
          "ename": "IndexError",
          "evalue": "ignored",
          "traceback": [
            "\u001b[0;31m---------------------------------------------------------------------------\u001b[0m",
            "\u001b[0;31mIndexError\u001b[0m                                Traceback (most recent call last)",
            "\u001b[0;32m<ipython-input-30-3d4b28c73e13>\u001b[0m in \u001b[0;36m<cell line: 27>\u001b[0;34m()\u001b[0m\n\u001b[1;32m     60\u001b[0m                 \u001b[0mdo_dh\u001b[0m \u001b[0;34m=\u001b[0m \u001b[0mhidden\u001b[0m\u001b[0;34m[\u001b[0m\u001b[0;34m-\u001b[0m\u001b[0mi\u001b[0m\u001b[0;34m]\u001b[0m\u001b[0;34m[\u001b[0m\u001b[0mj\u001b[0m\u001b[0;34m]\u001b[0m\u001b[0;34m*\u001b[0m\u001b[0;34m(\u001b[0m\u001b[0;36m1\u001b[0m\u001b[0;34m-\u001b[0m\u001b[0mhidden\u001b[0m\u001b[0;34m[\u001b[0m\u001b[0;34m-\u001b[0m\u001b[0mi\u001b[0m\u001b[0;34m]\u001b[0m\u001b[0;34m[\u001b[0m\u001b[0mj\u001b[0m\u001b[0;34m]\u001b[0m\u001b[0;34m)\u001b[0m\u001b[0;34m\u001b[0m\u001b[0;34m\u001b[0m\u001b[0m\n\u001b[1;32m     61\u001b[0m \u001b[0;34m\u001b[0m\u001b[0m\n\u001b[0;32m---> 62\u001b[0;31m                 \u001b[0mdh_dw\u001b[0m \u001b[0;34m=\u001b[0m \u001b[0mhidden\u001b[0m\u001b[0;34m[\u001b[0m\u001b[0;34m-\u001b[0m\u001b[0mi\u001b[0m\u001b[0;34m-\u001b[0m\u001b[0;36m1\u001b[0m\u001b[0;34m]\u001b[0m\u001b[0;34m[\u001b[0m\u001b[0mj\u001b[0m\u001b[0;34m]\u001b[0m\u001b[0;34m\u001b[0m\u001b[0;34m\u001b[0m\u001b[0m\n\u001b[0m\u001b[1;32m     63\u001b[0m \u001b[0;34m\u001b[0m\u001b[0m\n\u001b[1;32m     64\u001b[0m                 \u001b[0;31m# compute error sensitivity to weight\u001b[0m\u001b[0;34m\u001b[0m\u001b[0;34m\u001b[0m\u001b[0m\n",
            "\u001b[0;31mIndexError\u001b[0m: list index out of range"
          ]
        }
      ]
    },
    {
      "cell_type": "markdown",
      "source": [
        "#Test forward pass"
      ],
      "metadata": {
        "id": "69njaS7kuvHS"
      }
    },
    {
      "cell_type": "code",
      "source": [
        "# Simple input data\n",
        "input_data = np.array([[0.1, 0.5]])\n",
        "\n",
        "# Set up weights and biases\n",
        "weights = []\n",
        "weights.append(np.array([[-0.3, 0.1], [0.4, 0.2]]))\n",
        "weights.append(np.array([[0.1, -0.1]]))\n",
        "\n",
        "hidden = np.zeros(2)\n",
        "\n",
        "X = np.array([[0.05], [0.1]])\n",
        "\n",
        "# Set up weights and biases\n",
        "w = []\n",
        "w.append(np.array([[-0.3, 0.1], [0.4, 0.2]]))\n",
        "w.append(np.array([[0.1, -0.1]]))\n",
        "\n",
        "# forward pass implementation\n",
        "for i in range(len(weights)):\n",
        "    if i == 0:\n",
        "        for j in range(weights[i].shape[0]):\n",
        "            hidden[j] = np.sum(weights[i][j] * input_data)\n",
        "    else:\n",
        "        print(hidden)\n",
        "        for j in range(weights[i].shape[0]):\n",
        "            y = np.sum(weights[i][j] * hidden)\n",
        "\n",
        "print(y)"
      ],
      "metadata": {
        "id": "balN0hiWu6Le"
      },
      "execution_count": null,
      "outputs": []
    }
  ]
}