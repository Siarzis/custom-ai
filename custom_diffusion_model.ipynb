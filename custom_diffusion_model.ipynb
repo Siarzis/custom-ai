{
  "nbformat": 4,
  "nbformat_minor": 0,
  "metadata": {
    "colab": {
      "provenance": [],
      "authorship_tag": "ABX9TyOe3Nyjkhif/0uqLh21fshZ",
      "include_colab_link": true
    },
    "kernelspec": {
      "name": "python3",
      "display_name": "Python 3"
    },
    "language_info": {
      "name": "python"
    }
  },
  "cells": [
    {
      "cell_type": "markdown",
      "metadata": {
        "id": "view-in-github",
        "colab_type": "text"
      },
      "source": [
        "<a href=\"https://colab.research.google.com/github/Siarzis/custom-ai/blob/main/custom_diffusion_model.ipynb\" target=\"_parent\"><img src=\"https://colab.research.google.com/assets/colab-badge.svg\" alt=\"Open In Colab\"/></a>"
      ]
    },
    {
      "cell_type": "code",
      "execution_count": null,
      "metadata": {
        "id": "slI62NZmJJk0"
      },
      "outputs": [],
      "source": [
        "# inherit from the Pytorch \"nn.Module\"\n",
        "class custom_DDPM(nn.Module):\n",
        "    # inputs of the custom_DDPM ->\n",
        "    # 1. network: the utilized neural network for the diffusion process,\n",
        "    # 2. n_steps: number of steps in the diffusion process,\n",
        "    # 3.,4. min_beta, max_beta: the minimum and maximum values for the diffusion parameter\n",
        "    # 5. device: the device on which the model runs\n",
        "    # 6. image_chw: shape of the input image.\n",
        "    def __init__(self, network, n_steps=200, min_beta=10 ** -4, max_beta=0.02, device=None, image_shape=(1, 28, 28)):\n",
        "        # pass the provided input to the instance of the class\n",
        "        self.n_steps = n_steps\n",
        "        self.min_beta = min_beta\n",
        "        self.max_beta = max_beta\n",
        "        self.device = device\n",
        "        self.image_shape = image_shape"
      ]
    }
  ]
}