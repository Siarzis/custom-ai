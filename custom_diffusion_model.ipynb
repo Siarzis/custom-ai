{
  "nbformat": 4,
  "nbformat_minor": 0,
  "metadata": {
    "colab": {
      "provenance": [],
      "authorship_tag": "ABX9TyN13RHI5GaYjax43wASulfi",
      "include_colab_link": true
    },
    "kernelspec": {
      "name": "python3",
      "display_name": "Python 3"
    },
    "language_info": {
      "name": "python"
    }
  },
  "cells": [
    {
      "cell_type": "markdown",
      "metadata": {
        "id": "view-in-github",
        "colab_type": "text"
      },
      "source": [
        "<a href=\"https://colab.research.google.com/github/Siarzis/custom-ai/blob/main/custom_diffusion_model.ipynb\" target=\"_parent\"><img src=\"https://colab.research.google.com/assets/colab-badge.svg\" alt=\"Open In Colab\"/></a>"
      ]
    },
    {
      "cell_type": "markdown",
      "source": [
        "Import Libraries"
      ],
      "metadata": {
        "id": "XXfaAnYB2lAu"
      }
    },
    {
      "cell_type": "code",
      "source": [
        "import torch"
      ],
      "metadata": {
        "id": "TAKFb2dy2nc0"
      },
      "execution_count": 2,
      "outputs": []
    },
    {
      "cell_type": "markdown",
      "source": [
        "Create the class of the denoising diffusion model"
      ],
      "metadata": {
        "id": "kOq4NtdXCuRy"
      }
    },
    {
      "cell_type": "code",
      "execution_count": null,
      "metadata": {
        "id": "slI62NZmJJk0"
      },
      "outputs": [],
      "source": [
        "# inherit from the Pytorch \"nn.Module\"\n",
        "class custom_DDPM(nn.Module):\n",
        "    # inputs of the custom_DDPM ->\n",
        "    # 1. network: the utilized neural network for the diffusion process,\n",
        "    # 2. n_steps: number of steps in the diffusion process,\n",
        "    # 3.,4. min_beta, max_beta: the minimum and maximum values for the diffusion parameter\n",
        "    # 5. device: the device on which the model runs\n",
        "    # 6. image_shape: shape of the input image.\n",
        "\n",
        "    # the input parameters with provided values have default values\n",
        "    def __init__(self, network, min_beta=10 ** -4, max_beta=0.02, n_steps=200, device=None, image_shape=(1, 28, 28)):\n",
        "        # pass the provided input to the instance of the class\n",
        "        self.n_steps = n_steps\n",
        "        self.device = device\n",
        "        self.image_shape = image_shape\n",
        "        self.network = network.to(device)\n",
        "\n",
        "        # create a tensor of all the diffusion parameters, equally distributed [beta_min, beta_1, beta_2, ... , beta_max]\n",
        "        # in the original work by Ho et. al., betas are put in a linear space from 0.0001 to 0.02\n",
        "        self.betas = torch.linspace(min_beta, max_beta, n_steps).to(device)\n",
        "\n",
        "        # calculate alpha parameters for the diffusion process\n",
        "        # alpha is a complementary parameter to beta and together they control the diffusion process\n",
        "        # beta represents the portion of noise to add at each diffusion step and\n",
        "        # alpha represents the complementary probability of not adding that noise.\n",
        "        self.alphas = 1 - self.betas\n",
        "\n",
        "        # calculates the cumulative product of alpha values up to each step in the diffusion process\n",
        "        self.alpha_bars = torch.tensor([torch.prod(self.alphas[:i+1]) for i in range(len(self.alphas))])\n",
        "\n",
        "    # explanation of inputs\n",
        "    # x0: input image at the initial time step of the diffusion process\n",
        "    # t: current time step of the diffusion process\n",
        "    # eta: noise tensor (optional).; if not provided, random noise is injected.\n",
        "    def forward(self, x0, t, eta=None):\n",
        "\n",
        "        # the dimensions of the input image x0 are extracted\n",
        "        batch_size, channels, height, width = x0.shape\n",
        "        a_bar = self.alpha_bars[t]\n",
        "\n",
        "        if eta is None:\n",
        "            eta = torch.randn(batch_size, channels, height, width).to(self.device)\n",
        "\n",
        "        noisy = a_bar.sqrt().reshape(batch_size, 1, 1, 1) * x0 + (1 - a_bar).sqrt().reshape(batch_size, 1, 1, 1) * eta\n",
        "        return noisy\n",
        "\n",
        "    def backward(self, x, t):\n",
        "        return self.network(x, t)"
      ]
    },
    {
      "cell_type": "code",
      "source": [],
      "metadata": {
        "id": "bbLofO1U1ZQp"
      },
      "execution_count": null,
      "outputs": []
    }
  ]
}