{
  "nbformat": 4,
  "nbformat_minor": 0,
  "metadata": {
    "colab": {
      "provenance": [],
      "toc_visible": true,
      "authorship_tag": "ABX9TyPjAmi61Zrl4tPN4l9Il0yZ",
      "include_colab_link": true
    },
    "kernelspec": {
      "name": "python3",
      "display_name": "Python 3"
    },
    "language_info": {
      "name": "python"
    }
  },
  "cells": [
    {
      "cell_type": "markdown",
      "metadata": {
        "id": "view-in-github",
        "colab_type": "text"
      },
      "source": [
        "<a href=\"https://colab.research.google.com/github/Siarzis/custom-ai/blob/main/multi_layer_perceptron.ipynb\" target=\"_parent\"><img src=\"https://colab.research.google.com/assets/colab-badge.svg\" alt=\"Open In Colab\"/></a>"
      ]
    },
    {
      "cell_type": "markdown",
      "source": [
        "# Import libraries"
      ],
      "metadata": {
        "id": "hIpYx3qUjndY"
      }
    },
    {
      "cell_type": "code",
      "source": [
        "import numpy as np\n",
        "\n",
        "import random\n",
        "import copy\n",
        "\n",
        "import matplotlib.pyplot as plt\n",
        "\n",
        "from sklearn.metrics import accuracy_score"
      ],
      "metadata": {
        "id": "lCJxONqrjoFh"
      },
      "execution_count": 1,
      "outputs": []
    },
    {
      "cell_type": "markdown",
      "source": [
        "# Generate dataset"
      ],
      "metadata": {
        "id": "oWn6L2Z4jhY4"
      }
    },
    {
      "cell_type": "code",
      "execution_count": 2,
      "metadata": {
        "id": "xbvUNUIDlO-m"
      },
      "outputs": [],
      "source": [
        "# for a single perceptron, the algorithm requires the number of inputs\n",
        "# to the perceptron as a parameter to be provided\n",
        "\n",
        "# no_inputs specifices perceptron's number of inputs and is user-defined hyperparameter\n",
        "inputs = 2\n",
        "\n",
        "# s value specifies the size of the dataset\n",
        "s = 1000\n",
        "\n",
        "training_dataset = np.random.uniform(0, 1, size=(s, inputs+1))\n",
        "\n",
        "for row in training_dataset:\n",
        "    if row[1] > row[0]:\n",
        "        row[2] = 1\n",
        "    else:\n",
        "        row[2] = 0"
      ]
    },
    {
      "cell_type": "markdown",
      "source": [
        "# Plot the dataset"
      ],
      "metadata": {
        "id": "fvF-xeyPnv1n"
      }
    },
    {
      "cell_type": "code",
      "source": [
        "# Extract horizontal and vertical coordinates from the input values\n",
        "\n",
        "h_green = []\n",
        "v_green = []\n",
        "h_blue = []\n",
        "v_blue = []\n",
        "\n",
        "for i, row in enumerate(training_dataset):\n",
        "    if row[2] == 1:\n",
        "        h_green.append(training_dataset[i, 0])\n",
        "        v_green.append(training_dataset[i, 1])\n",
        "    else:\n",
        "        h_blue.append(training_dataset[i, 0])\n",
        "        v_blue.append(training_dataset[i, 1])\n",
        "\n",
        "# Plot the points\n",
        "plt.scatter(h_green, v_green, marker='o', s=1, color='green', label='Random Points')\n",
        "plt.scatter(h_blue, v_blue, marker='o', s=1, color='blue', label='Random Points')\n",
        "plt.plot([0.0, 1], [0.0, 1], color='black')\n",
        "\n",
        "# Add labels and title\n",
        "plt.xlabel('X-axis')\n",
        "plt.ylabel('Y-axis')\n",
        "plt.title('Randomly Generated Input Values')\n",
        "\n",
        "# Display the legend\n",
        "plt.legend()\n",
        "\n",
        "# Show the plot\n",
        "plt.show()"
      ],
      "metadata": {
        "id": "RYdVclwYnwR4"
      },
      "execution_count": null,
      "outputs": []
    },
    {
      "cell_type": "markdown",
      "source": [
        "# Initialize model & Forward pass\n",
        "\n"
      ],
      "metadata": {
        "id": "sjWiwfjtj3hg"
      }
    },
    {
      "cell_type": "code",
      "source": [
        "# configure the learning rate\n",
        "lr = 0.5\n",
        "\n",
        "# number of epochs\n",
        "epochs = 1\n",
        "\n",
        "# provide number of neurons in each hidden layer\n",
        "layer_neurons = [inputs, 2, 2]\n",
        "\n",
        "weights, hidden, b, error = [], [], [], []\n",
        "\n",
        "# the number of rows in w represents the number of neuron in each layer\n",
        "# the number of columns in w represents the number of inputs of the previous layer\n",
        "for i in range(1, len(layer_neurons)):\n",
        "\n",
        "    # initialize the neuron weights\n",
        "    weights.append(np.zeros((layer_neurons[i], layer_neurons[i-1])))\n",
        "\n",
        "    hidden.append(np.zeros((layer_neurons[i], 1)))\n",
        "\n",
        "    error.append(np.zeros((layer_neurons[i], 1)))\n",
        "\n",
        "    # b.append(0)\n",
        "\n",
        "# initialize perceptron\n",
        "\n",
        "for e in range(epochs):\n",
        "    for sample in training_dataset[:1,:]:\n",
        "        X = sample[:2]\n",
        "        d = sample[2]\n",
        "\n",
        "        X = np.array([[0.05], [0.1]])\n",
        "        d = np.array([[0.01], [0.99]])\n",
        "\n",
        "        # Set up weights and biases\n",
        "        weights = []\n",
        "        weights.append(np.array([[0.15, 0.2], [0.25, 0.3]]))\n",
        "        weights.append(np.array([[0.4, 0.45], [0.5, 0.55]]))\n",
        "\n",
        "        # forward pass implementation\n",
        "        for i in range(len(weights)):\n",
        "            if i == 0:\n",
        "                hidden[i] = 1/(1 + 1/np.exp(np.dot(weights[i], X)+0.35))\n",
        "            else:\n",
        "                hidden[i] = 1/(1 + 1/np.exp(np.dot(weights[i], hidden[i-1])+0.6))\n",
        "\n",
        "        hidden.insert(0, X)\n",
        "\n",
        "        weights_old = copy.deepcopy(weights)\n",
        "\n",
        "        # backward pass implementation\n",
        "\n",
        "        # iterate layer\n",
        "        for i in range(1, len(layer_neurons)):\n",
        "            # compute the error --- square error function is convenient for the gradient computation\n",
        "            # err = 0.5*((error[-i][j]-hidden[-i][j]) ** 2)\n",
        "\n",
        "            if i == 1:\n",
        "                # compute error sensitivity to output\n",
        "                derror_doutput = -(d-hidden[-i])\n",
        "\n",
        "                doutput_dnet = hidden[-i]*(1-hidden[-i])\n",
        "\n",
        "                # error[-i] = derror_doutput * doutput_dnet\n",
        "\n",
        "                dnet_dweight = hidden[-i-1]\n",
        "\n",
        "                print(derror_doutput)\n",
        "                print(doutput_dnet)\n",
        "                print(dnet_dweight)\n",
        "\n",
        "                # compute error sensitivity to weight\n",
        "                de_dw = derror_doutput * doutput_dnet * dnet_dweight\n",
        "\n",
        "                print(de_dw)\n",
        "\n",
        "                weights[-i] = weights[-i] - lr*de_dw\n",
        "\n",
        "                print(weights)\n",
        "            else:\n",
        "                print('hi')\n",
        "                # dout_hj_dnet_hj = hidden[-i][j]*(1-hidden[-i][j])\n",
        "\n",
        "                # dnet_hj_dwk = hidden[-i-1][k]\n",
        "\n",
        "                # dE_total_dout_hj = 0\n",
        "\n",
        "                # for l in range(layer_neurons[-i+1]):\n",
        "                #     print(error[-i+1][j])\n",
        "                #     dE_total_dout_hj += error[-i+1][j] * weights_old[-i+1][l]\n",
        "\n",
        "                # print(dE_total_dout_hj, dout_hj_dnet_hj, dnet_hj_dwk)\n",
        "\n",
        "                # de_dw = dE_total_dout_hj * dout_hj_dnet_hj * dnet_hj_dwk\n",
        "\n"
      ],
      "metadata": {
        "id": "MeTqyBx9jtpI",
        "colab": {
          "base_uri": "https://localhost:8080/"
        },
        "outputId": "1b8140b6-967e-40c7-df72-25949cbf7c15"
      },
      "execution_count": 6,
      "outputs": [
        {
          "output_type": "stream",
          "name": "stdout",
          "text": [
            "[[ 0.74136507]\n",
            " [-0.21707153]]\n",
            "[[0.1868156 ]\n",
            " [0.17551005]]\n",
            "[[0.59326999]\n",
            " [0.59688438]]\n",
            "[[ 0.08216704]\n",
            " [-0.02274024]]\n",
            "[array([[0.15, 0.2 ],\n",
            "       [0.25, 0.3 ]]), array([[0.35891648, 0.40891648],\n",
            "       [0.51137012, 0.56137012]])]\n",
            "hi\n"
          ]
        }
      ]
    },
    {
      "cell_type": "code",
      "source": [
        "# configure the learning rate\n",
        "lr = 0.5\n",
        "\n",
        "# number of epochs\n",
        "epochs = 1\n",
        "\n",
        "# provide number of neurons in each hidden layer\n",
        "layer_neurons = [inputs, 2, 2]\n",
        "\n",
        "weights, hidden, b, error = [], [], [], []\n",
        "\n",
        "# the number of rows in w represents the number of neuron in each layer\n",
        "# the number of columns in w represents the number of inputs of the previous layer\n",
        "for i in range(1, len(layer_neurons)):\n",
        "\n",
        "    # initialize the neuron weights\n",
        "    weights.append(np.zeros((layer_neurons[i], layer_neurons[i-1])))\n",
        "\n",
        "    hidden.append(np.zeros((layer_neurons[i], 1)))\n",
        "\n",
        "    error.append(np.zeros((layer_neurons[i], 1)))\n",
        "\n",
        "    # b.append(0)\n",
        "\n",
        "# initialize perceptron\n",
        "\n",
        "for e in range(epochs):\n",
        "    for sample in training_dataset[:1,:]:\n",
        "        X = sample[:2]\n",
        "        d = sample[2]\n",
        "\n",
        "        X = np.array([[0.05], [0.1]])\n",
        "        d = np.array([[0.01], [0.99]])\n",
        "\n",
        "        # Set up weights and biases\n",
        "        weights = []\n",
        "        weights.append(np.array([[0.15, 0.2], [0.25, 0.3]]))\n",
        "        weights.append(np.array([[0.4, 0.45], [0.5, 0.55]]))\n",
        "\n",
        "        # forward pass implementation\n",
        "        for i in range(len(weights)):\n",
        "            if i == 0:\n",
        "                hidden[i] = 1/(1 + 1/np.exp(np.dot(weights[i], X)+0.35))\n",
        "            else:\n",
        "                hidden[i] = 1/(1 + 1/np.exp(np.dot(weights[i], hidden[i-1])+0.6))\n",
        "\n",
        "        hidden.insert(0, X)\n",
        "\n",
        "        weights_old = copy.deepcopy(weights)\n",
        "\n",
        "        # backward pass implementation\n",
        "\n",
        "        # iterate layer\n",
        "        for i in range(1, len(layer_neurons)):\n",
        "            # iterate neurons per layer\n",
        "            for j in range(layer_neurons[-i]):\n",
        "            # iterate weights per neuron\n",
        "                for k in range(layer_neurons[-i-1]):\n",
        "                    # compute the error --- square error function is convenient for the gradient computation\n",
        "                    # err = 0.5*((error[-i][j]-hidden[-i][j]) ** 2)\n",
        "\n",
        "                    if i == 1:\n",
        "                        # compute error sensitivity to output\n",
        "                        print(i,j,k)\n",
        "                        de_do = -(d[j][0]-hidden[-i][j])\n",
        "\n",
        "                        do_dh = hidden[-i][j]*(1-hidden[-i][j])\n",
        "\n",
        "                        error[-i][j] = de_do * do_dh\n",
        "\n",
        "                        dh_dw = hidden[-i-1][k]\n",
        "\n",
        "                        # compute error sensitivity to weight\n",
        "                        de_dw = de_do * do_dh * dh_dw\n",
        "                    else:\n",
        "                        dout_hj_dnet_hj = hidden[-i][j]*(1-hidden[-i][j])\n",
        "\n",
        "                        dnet_hj_dwk = hidden[-i-1][k]\n",
        "\n",
        "                        dE_total_dout_hj = 0\n",
        "\n",
        "                        for l in range(layer_neurons[-i+1]):\n",
        "                            print(error[-i+1][j])\n",
        "                            dE_total_dout_hj += error[-i+1][j] * weights_old[-i+1][l]\n",
        "\n",
        "                        print(dE_total_dout_hj, dout_hj_dnet_hj, dnet_hj_dwk)\n",
        "\n",
        "                        de_dw = dE_total_dout_hj * dout_hj_dnet_hj * dnet_hj_dwk\n",
        "\n",
        "                        print(weights)\n",
        "\n",
        "\n",
        "                    weights[-i][j][k] = weights[-i][j][k] - lr*de_dw[0]\n"
      ],
      "metadata": {
        "id": "0Jo5VPZA5JxO"
      },
      "execution_count": null,
      "outputs": []
    },
    {
      "cell_type": "markdown",
      "source": [
        "#Test forward pass"
      ],
      "metadata": {
        "id": "69njaS7kuvHS"
      }
    },
    {
      "cell_type": "code",
      "source": [
        "# Simple input data\n",
        "input_data = np.array([[0.1, 0.5]])\n",
        "\n",
        "# Set up weights and biases\n",
        "weights = []\n",
        "weights.append(np.array([[-0.3, 0.1], [0.4, 0.2]]))\n",
        "weights.append(np.array([[0.1, -0.1]]))\n",
        "\n",
        "hidden = np.zeros(2)\n",
        "\n",
        "X = np.array([[0.05], [0.1]])\n",
        "\n",
        "# Set up weights and biases\n",
        "w = []\n",
        "w.append(np.array([[-0.3, 0.1], [0.4, 0.2]]))\n",
        "w.append(np.array([[0.1, -0.1]]))\n",
        "\n",
        "# forward pass implementation\n",
        "for i in range(len(weights)):\n",
        "    if i == 0:\n",
        "        for j in range(weights[i].shape[0]):\n",
        "            hidden[j] = np.sum(weights[i][j] * input_data)\n",
        "    else:\n",
        "        print(hidden)\n",
        "        for j in range(weights[i].shape[0]):\n",
        "            y = np.sum(weights[i][j] * hidden)\n",
        "\n",
        "print(y)"
      ],
      "metadata": {
        "id": "balN0hiWu6Le"
      },
      "execution_count": null,
      "outputs": []
    }
  ]
}